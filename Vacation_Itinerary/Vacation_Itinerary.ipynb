{
 "cells": [
  {
   "cell_type": "markdown",
   "metadata": {},
   "source": [
    "## Deliverable 3. Create a Travel Itinerary Map."
   ]
  },
  {
   "cell_type": "code",
   "execution_count": 1,
   "metadata": {},
   "outputs": [],
   "source": [
    "# Dependencies and Setup\n",
    "import pandas as pd\n",
    "import requests\n",
    "import gmaps\n",
    "import os\n",
    "os.chdir('..')\n",
    "\n",
    "# Import API key\n",
    "from config import g_key\n",
    "\n",
    "# Configure gmaps\n",
    "gmaps.configure(api_key=g_key)"
   ]
  },
  {
   "cell_type": "code",
   "execution_count": 2,
   "metadata": {},
   "outputs": [
    {
     "output_type": "execute_result",
     "data": {
      "text/plain": [
       "   City_ID                City Country  Max Temp Current Description      Lat  \\\n",
       "0        4            Tasiilaq      GL     32.00                snow  65.6145   \n",
       "1       12        Port-Cartier      CA     30.99                snow  50.0334   \n",
       "2       19              Kodiak      US     28.40           clear sky  57.7900   \n",
       "3       23              Kijang      KR     35.60           clear sky  35.2442   \n",
       "4       26  Havre-Saint-Pierre      CA     32.00                snow  50.2334   \n",
       "\n",
       "        Lng                                     Hotel Name  \n",
       "0  -37.6368                                  The Red House  \n",
       "1  -66.8654                                    Le Q'Artier  \n",
       "2 -152.4072  Best Western Kodiak Inn And Convention Center  \n",
       "3  129.2139                            Samyang Beach Villa  \n",
       "4  -63.5986                              Auberge Niapiskau  "
      ],
      "text/html": "<div>\n<style scoped>\n    .dataframe tbody tr th:only-of-type {\n        vertical-align: middle;\n    }\n\n    .dataframe tbody tr th {\n        vertical-align: top;\n    }\n\n    .dataframe thead th {\n        text-align: right;\n    }\n</style>\n<table border=\"1\" class=\"dataframe\">\n  <thead>\n    <tr style=\"text-align: right;\">\n      <th></th>\n      <th>City_ID</th>\n      <th>City</th>\n      <th>Country</th>\n      <th>Max Temp</th>\n      <th>Current Description</th>\n      <th>Lat</th>\n      <th>Lng</th>\n      <th>Hotel Name</th>\n    </tr>\n  </thead>\n  <tbody>\n    <tr>\n      <th>0</th>\n      <td>4</td>\n      <td>Tasiilaq</td>\n      <td>GL</td>\n      <td>32.00</td>\n      <td>snow</td>\n      <td>65.6145</td>\n      <td>-37.6368</td>\n      <td>The Red House</td>\n    </tr>\n    <tr>\n      <th>1</th>\n      <td>12</td>\n      <td>Port-Cartier</td>\n      <td>CA</td>\n      <td>30.99</td>\n      <td>snow</td>\n      <td>50.0334</td>\n      <td>-66.8654</td>\n      <td>Le Q'Artier</td>\n    </tr>\n    <tr>\n      <th>2</th>\n      <td>19</td>\n      <td>Kodiak</td>\n      <td>US</td>\n      <td>28.40</td>\n      <td>clear sky</td>\n      <td>57.7900</td>\n      <td>-152.4072</td>\n      <td>Best Western Kodiak Inn And Convention Center</td>\n    </tr>\n    <tr>\n      <th>3</th>\n      <td>23</td>\n      <td>Kijang</td>\n      <td>KR</td>\n      <td>35.60</td>\n      <td>clear sky</td>\n      <td>35.2442</td>\n      <td>129.2139</td>\n      <td>Samyang Beach Villa</td>\n    </tr>\n    <tr>\n      <th>4</th>\n      <td>26</td>\n      <td>Havre-Saint-Pierre</td>\n      <td>CA</td>\n      <td>32.00</td>\n      <td>snow</td>\n      <td>50.2334</td>\n      <td>-63.5986</td>\n      <td>Auberge Niapiskau</td>\n    </tr>\n  </tbody>\n</table>\n</div>"
     },
     "metadata": {},
     "execution_count": 2
    }
   ],
   "source": [
    "# 1. Read the WeatherPy_vacation.csv into a DataFrame.\n",
    "vacation_df = pd.read_csv(\"Vacation_Search/WeatherPy_vacation.csv\")\n",
    "vacation_df.head(5)"
   ]
  },
  {
   "cell_type": "code",
   "execution_count": 3,
   "metadata": {},
   "outputs": [],
   "source": [
    "# 2. Using the template add the city name, the country code, the weather description and maximum temperature for the city.\n",
    "info_box_template = \"\"\"\n",
    "<dl>\n",
    "<dt><b>City</b></dt><dd>{City}</dd>\n",
    "<dt><b>Country</b></dt><dd>{Country}</dd>\n",
    "<dt><b>Description</b></dt><dd>{Current Description}</dd>\n",
    "<dt><b>Max Temp</b></dt><dd>{Max Temp} °F</dd>\n",
    "</dl>\n",
    "\"\"\"\n",
    "\n",
    "# 3a. Get the data from each row and add it to the formatting template and store the data in a list.\n",
    "hotel_info = [info_box_template.format(**row) for index, row in vacation_df.iterrows()]\n",
    "\n",
    "# 3b. Get the latitude and longitude from each row and store in a new DataFrame.\n",
    "locations = vacation_df[[\"Lat\", \"Lng\"]]"
   ]
  },
  {
   "cell_type": "code",
   "execution_count": 4,
   "metadata": {},
   "outputs": [
    {
     "output_type": "display_data",
     "data": {
      "text/plain": "Figure(layout=FigureLayout(height='420px'))",
      "application/vnd.jupyter.widget-view+json": {
       "version_major": 2,
       "version_minor": 0,
       "model_id": "7fca6619d53d4f4f813d238111c380c2"
      }
     },
     "metadata": {}
    }
   ],
   "source": [
    "# 4a. Add a marker layer for each city to the map.\n",
    "locations = vacation_df[[\"Lat\", \"Lng\"]]\n",
    "max_temp = vacation_df[\"Max Temp\"]\n",
    "fig = gmaps.figure(center=(30.0, 31.0), zoom_level=1.5)\n",
    "heat_layer = gmaps.heatmap_layer(locations, weights=max_temp,dissipating=False,\n",
    "             max_intensity=300, point_radius=4)\n",
    "marker_layer = gmaps.marker_layer(locations, info_box_content=hotel_info)\n",
    "fig.add_layer(heat_layer)\n",
    "fig.add_layer(marker_layer)\n",
    "\n",
    "# 4b. Display the figure\n",
    "fig"
   ]
  },
  {
   "cell_type": "code",
   "execution_count": 8,
   "metadata": {},
   "outputs": [
    {
     "output_type": "execute_result",
     "data": {
      "text/plain": [
       "   City_ID  City Country  Max Temp Current Description      Lat      Lng  \\\n",
       "9       38  Roma      US      28.4     overcast clouds  43.2128 -75.4557   \n",
       "\n",
       "                Hotel Name  \n",
       "9  Wingate By Wyndham Rome  "
      ],
      "text/html": "<div>\n<style scoped>\n    .dataframe tbody tr th:only-of-type {\n        vertical-align: middle;\n    }\n\n    .dataframe tbody tr th {\n        vertical-align: top;\n    }\n\n    .dataframe thead th {\n        text-align: right;\n    }\n</style>\n<table border=\"1\" class=\"dataframe\">\n  <thead>\n    <tr style=\"text-align: right;\">\n      <th></th>\n      <th>City_ID</th>\n      <th>City</th>\n      <th>Country</th>\n      <th>Max Temp</th>\n      <th>Current Description</th>\n      <th>Lat</th>\n      <th>Lng</th>\n      <th>Hotel Name</th>\n    </tr>\n  </thead>\n  <tbody>\n    <tr>\n      <th>9</th>\n      <td>38</td>\n      <td>Roma</td>\n      <td>US</td>\n      <td>28.4</td>\n      <td>overcast clouds</td>\n      <td>43.2128</td>\n      <td>-75.4557</td>\n      <td>Wingate By Wyndham Rome</td>\n    </tr>\n  </tbody>\n</table>\n</div>"
     },
     "metadata": {},
     "execution_count": 8
    }
   ],
   "source": [
    "# From the map above pick 4 cities and create a vacation itinerary route to travel between the four cities. \n",
    "# 5. Create DataFrames for each city by filtering the 'vacation_df' using the loc method. \n",
    "# Hint: The starting and ending city should be the same city.\n",
    "\n",
    "vacation_start_df = pd.DataFrame(vacation_df.loc[vacation_df[\"City\"] == \"Roma\"])\n",
    "vacation_end_df = pd.DataFrame(vacation_df.loc[vacation_df[\"City\"] == \"Roma\"])\n",
    "\n",
    "#Trip stop\n",
    "vacation_stop1_df = pd.DataFrame(vacation_df.loc[vacation_df[\"City\"] == \"Bethel\"])\n",
    "vacation_stop2_df = pd.DataFrame(vacation_df.loc[vacation_df[\"City\"] == \"Westport\"])\n",
    "vacation_stop3_df = pd.DataFrame(vacation_df.loc[vacation_df[\"City\"] == \"Palmer\"])\n",
    "vacation_start_df"
   ]
  },
  {
   "cell_type": "code",
   "execution_count": 9,
   "metadata": {},
   "outputs": [
    {
     "output_type": "stream",
     "name": "stdout",
     "text": [
      "[(43.2128, -75.4557)]\n[(41.3712, -73.414)]\n"
     ]
    }
   ],
   "source": [
    "# 6. Get the latitude-longitude pairs as tuples from each city DataFrame using the to_numpy function and list indexing.\n",
    "vacation_start_df_np = list(tuple(x) for x in vacation_start_df[[\"Lat\", \"Lng\"]].to_numpy())\n",
    "vacation_end_df_np = list(tuple(x) for x in vacation_end_df[[\"Lat\", \"Lng\"]].to_numpy())\n",
    "\n",
    "vacation_stop1_df_np = list(tuple(x) for x in vacation_stop1_df[[\"Lat\", \"Lng\"]].to_numpy())\n",
    "vacation_stop2_df_np = list(tuple(x) for x in vacation_stop2_df[[\"Lat\", \"Lng\"]].to_numpy())\n",
    "vacation_stop3_df_np = list(tuple(x) for x in vacation_stop3_df[[\"Lat\", \"Lng\"]].to_numpy())\n",
    "print(vacation_start_df_np)\n",
    "print(vacation_stop1_df_np)"
   ]
  },
  {
   "cell_type": "code",
   "execution_count": 10,
   "metadata": {
    "scrolled": true
   },
   "outputs": [
    {
     "output_type": "display_data",
     "data": {
      "text/plain": "Figure(layout=FigureLayout(height='420px'))",
      "application/vnd.jupyter.widget-view+json": {
       "version_major": 2,
       "version_minor": 0,
       "model_id": "0a664a89df324ebeb57715897ada4bb6"
      }
     },
     "metadata": {}
    }
   ],
   "source": [
    "# 7. Create a direction layer map using the start and end latitude-longitude pairs,\n",
    "# and stop1, stop2, and stop3 as the waypoints. The travel_mode should be \"DRIVING\", \"BICYCLING\", or \"WALKING\".\n",
    "fig = gmaps.figure()\n",
    "\n",
    "fig = gmaps.figure()\n",
    "map_checkpoints = gmaps.directions_layer(\n",
    "        vacation_start_df_np[0], vacation_end_df_np[0], waypoints=[vacation_stop1_df_np[0],vacation_stop2_df_np[0],vacation_stop3_df_np[0]],\n",
    "        travel_mode='DRIVING')\n",
    "fig.add_layer(map_checkpoints)\n",
    "fig"
   ]
  },
  {
   "cell_type": "code",
   "execution_count": 11,
   "metadata": {},
   "outputs": [
    {
     "output_type": "execute_result",
     "data": {
      "text/plain": [
       "   City_ID      City Country  Max Temp Current Description      Lat      Lng  \\\n",
       "0       38      Roma      US     28.40     overcast clouds  43.2128 -75.4557   \n",
       "1       59    Bethel      US     39.99    scattered clouds  41.3712 -73.4140   \n",
       "2      228  Westport      US     42.80           clear sky  41.1415 -73.3579   \n",
       "3      360    Palmer      US     39.99    scattered clouds  42.1584 -72.3287   \n",
       "\n",
       "                      Hotel Name  \n",
       "0        Wingate By Wyndham Rome  \n",
       "1  Courtyard by Marriott Danbury  \n",
       "2                    Norwalk Inn  \n",
       "3                Wedgewood Motel  "
      ],
      "text/html": "<div>\n<style scoped>\n    .dataframe tbody tr th:only-of-type {\n        vertical-align: middle;\n    }\n\n    .dataframe tbody tr th {\n        vertical-align: top;\n    }\n\n    .dataframe thead th {\n        text-align: right;\n    }\n</style>\n<table border=\"1\" class=\"dataframe\">\n  <thead>\n    <tr style=\"text-align: right;\">\n      <th></th>\n      <th>City_ID</th>\n      <th>City</th>\n      <th>Country</th>\n      <th>Max Temp</th>\n      <th>Current Description</th>\n      <th>Lat</th>\n      <th>Lng</th>\n      <th>Hotel Name</th>\n    </tr>\n  </thead>\n  <tbody>\n    <tr>\n      <th>0</th>\n      <td>38</td>\n      <td>Roma</td>\n      <td>US</td>\n      <td>28.40</td>\n      <td>overcast clouds</td>\n      <td>43.2128</td>\n      <td>-75.4557</td>\n      <td>Wingate By Wyndham Rome</td>\n    </tr>\n    <tr>\n      <th>1</th>\n      <td>59</td>\n      <td>Bethel</td>\n      <td>US</td>\n      <td>39.99</td>\n      <td>scattered clouds</td>\n      <td>41.3712</td>\n      <td>-73.4140</td>\n      <td>Courtyard by Marriott Danbury</td>\n    </tr>\n    <tr>\n      <th>2</th>\n      <td>228</td>\n      <td>Westport</td>\n      <td>US</td>\n      <td>42.80</td>\n      <td>clear sky</td>\n      <td>41.1415</td>\n      <td>-73.3579</td>\n      <td>Norwalk Inn</td>\n    </tr>\n    <tr>\n      <th>3</th>\n      <td>360</td>\n      <td>Palmer</td>\n      <td>US</td>\n      <td>39.99</td>\n      <td>scattered clouds</td>\n      <td>42.1584</td>\n      <td>-72.3287</td>\n      <td>Wedgewood Motel</td>\n    </tr>\n  </tbody>\n</table>\n</div>"
     },
     "metadata": {},
     "execution_count": 11
    }
   ],
   "source": [
    "# 8. To create a marker layer map between the four cities.\n",
    "#  Combine the four city DataFrames into one DataFrame using the concat() function.\n",
    "itinerary_df = pd.concat([vacation_start_df, vacation_stop1_df, vacation_stop2_df, vacation_stop3_df],ignore_index=True)\n",
    "itinerary_df"
   ]
  },
  {
   "cell_type": "code",
   "execution_count": 12,
   "metadata": {},
   "outputs": [
    {
     "output_type": "execute_result",
     "data": {
      "text/plain": [
       "       Lat      Lng\n",
       "0  43.2128 -75.4557\n",
       "1  41.3712 -73.4140\n",
       "2  41.1415 -73.3579\n",
       "3  42.1584 -72.3287"
      ],
      "text/html": "<div>\n<style scoped>\n    .dataframe tbody tr th:only-of-type {\n        vertical-align: middle;\n    }\n\n    .dataframe tbody tr th {\n        vertical-align: top;\n    }\n\n    .dataframe thead th {\n        text-align: right;\n    }\n</style>\n<table border=\"1\" class=\"dataframe\">\n  <thead>\n    <tr style=\"text-align: right;\">\n      <th></th>\n      <th>Lat</th>\n      <th>Lng</th>\n    </tr>\n  </thead>\n  <tbody>\n    <tr>\n      <th>0</th>\n      <td>43.2128</td>\n      <td>-75.4557</td>\n    </tr>\n    <tr>\n      <th>1</th>\n      <td>41.3712</td>\n      <td>-73.4140</td>\n    </tr>\n    <tr>\n      <th>2</th>\n      <td>41.1415</td>\n      <td>-73.3579</td>\n    </tr>\n    <tr>\n      <th>3</th>\n      <td>42.1584</td>\n      <td>-72.3287</td>\n    </tr>\n  </tbody>\n</table>\n</div>"
     },
     "metadata": {},
     "execution_count": 12
    }
   ],
   "source": [
    "# 9 Using the template add city name, the country code, the weather description and maximum temperature for the city. \n",
    "info_box_template = \"\"\"\n",
    "<dl>\n",
    "<dt><b>City</b></dt><dd>{City}</dd>\n",
    "<dt><b>Country</b></dt><dd>{Country}</dd>\n",
    "<dt><b>Description</b></dt><dd>{Current Description}</dd>\n",
    "<dt><b>Max Temp</b></dt><dd>{Max Temp} °F</dd>\n",
    "</dl>\n",
    "\"\"\"\n",
    "\n",
    "# 10a Get the data from each row and add it to the formatting template and store the data in a list.\n",
    "hotel_info = [info_box_template.format(**row) for index, row in itinerary_df.iterrows()]\n",
    "\n",
    "# 10b. Get the latitude and longitude from each row and store in a new DataFrame.\n",
    "locations = itinerary_df[[\"Lat\", \"Lng\"]]\n",
    "locations"
   ]
  },
  {
   "cell_type": "code",
   "execution_count": 13,
   "metadata": {},
   "outputs": [
    {
     "output_type": "display_data",
     "data": {
      "text/plain": "Figure(layout=FigureLayout(height='420px'))",
      "application/vnd.jupyter.widget-view+json": {
       "version_major": 2,
       "version_minor": 0,
       "model_id": "e2c6c86aff2b4188afdb380357a79b25"
      }
     },
     "metadata": {}
    }
   ],
   "source": [
    "# 11a. Add a marker layer for each city to the map.\n",
    "max_temp = itinerary_df[\"Max Temp\"]\n",
    "fig = gmaps.figure(center=vacation_start_df_np[0], zoom_level=5)\n",
    "marker_layer = gmaps.marker_layer(locations, info_box_content=hotel_info)\n",
    "fig.add_layer(marker_layer)\n",
    "\n",
    "# 11b. Display the figure\n",
    "fig"
   ]
  },
  {
   "cell_type": "code",
   "execution_count": null,
   "metadata": {},
   "outputs": [],
   "source": []
  }
 ],
 "metadata": {
  "kernelspec": {
   "display_name": "PythonData",
   "language": "python",
   "name": "pythondata"
  },
  "language_info": {
   "codemirror_mode": {
    "name": "ipython",
    "version": 3
   },
   "file_extension": ".py",
   "mimetype": "text/x-python",
   "name": "python",
   "nbconvert_exporter": "python",
   "pygments_lexer": "ipython3",
   "version": "3.8.5-final"
  },
  "latex_envs": {
   "LaTeX_envs_menu_present": true,
   "autoclose": false,
   "autocomplete": true,
   "bibliofile": "biblio.bib",
   "cite_by": "apalike",
   "current_citInitial": 1,
   "eqLabelWithNumbers": true,
   "eqNumInitial": 1,
   "hotkeys": {
    "equation": "Ctrl-E",
    "itemize": "Ctrl-I"
   },
   "labels_anchors": false,
   "latex_user_defs": false,
   "report_style_numbering": false,
   "user_envs_cfg": false
  }
 },
 "nbformat": 4,
 "nbformat_minor": 2
}