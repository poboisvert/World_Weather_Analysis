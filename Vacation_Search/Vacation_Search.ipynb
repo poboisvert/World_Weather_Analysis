{
 "cells": [
  {
   "cell_type": "markdown",
   "metadata": {},
   "source": [
    "## Deliverable 2. Create a Customer Travel Destinations Map."
   ]
  },
  {
   "cell_type": "code",
   "execution_count": 1,
   "metadata": {},
   "outputs": [],
   "source": [
    "# Dependencies and Setup\n",
    "import pandas as pd\n",
    "import requests\n",
    "import gmaps\n",
    "import numpy as np\n",
    "\n",
    "# Import API key\n",
    "import os\n",
    "os.chdir('..')\n",
    "\n",
    "from config import g_key\n",
    "#print(g_key)\n",
    "# Configure gmaps API key\n",
    "gmaps.configure(api_key=g_key)"
   ]
  },
  {
   "cell_type": "code",
   "execution_count": 2,
   "metadata": {},
   "outputs": [
    {
     "output_type": "execute_result",
     "data": {
      "text/plain": [
       "   City_ID           City      Lat       Lng  Max Temp  Humidity  Cloudiness  \\\n",
       "0        0         Castro -24.7911  -50.0119     76.26        50           0   \n",
       "1        1  Victor Harbor -35.5667  138.6167     60.01        98         100   \n",
       "2        2      Hithadhoo  -0.6000   73.0833     82.02        76         100   \n",
       "3        3        Talnakh  69.4865   88.3972    -29.07        76           0   \n",
       "4        4       Tasiilaq  65.6145  -37.6368     32.00       100          75   \n",
       "\n",
       "   Wind Speed Country Current Description  \n",
       "0        7.45      BR           clear sky  \n",
       "1        3.00      AU     overcast clouds  \n",
       "2       15.10      MV     overcast clouds  \n",
       "3        3.47      RU           clear sky  \n",
       "4       42.57      GL                snow  "
      ],
      "text/html": "<div>\n<style scoped>\n    .dataframe tbody tr th:only-of-type {\n        vertical-align: middle;\n    }\n\n    .dataframe tbody tr th {\n        vertical-align: top;\n    }\n\n    .dataframe thead th {\n        text-align: right;\n    }\n</style>\n<table border=\"1\" class=\"dataframe\">\n  <thead>\n    <tr style=\"text-align: right;\">\n      <th></th>\n      <th>City_ID</th>\n      <th>City</th>\n      <th>Lat</th>\n      <th>Lng</th>\n      <th>Max Temp</th>\n      <th>Humidity</th>\n      <th>Cloudiness</th>\n      <th>Wind Speed</th>\n      <th>Country</th>\n      <th>Current Description</th>\n    </tr>\n  </thead>\n  <tbody>\n    <tr>\n      <th>0</th>\n      <td>0</td>\n      <td>Castro</td>\n      <td>-24.7911</td>\n      <td>-50.0119</td>\n      <td>76.26</td>\n      <td>50</td>\n      <td>0</td>\n      <td>7.45</td>\n      <td>BR</td>\n      <td>clear sky</td>\n    </tr>\n    <tr>\n      <th>1</th>\n      <td>1</td>\n      <td>Victor Harbor</td>\n      <td>-35.5667</td>\n      <td>138.6167</td>\n      <td>60.01</td>\n      <td>98</td>\n      <td>100</td>\n      <td>3.00</td>\n      <td>AU</td>\n      <td>overcast clouds</td>\n    </tr>\n    <tr>\n      <th>2</th>\n      <td>2</td>\n      <td>Hithadhoo</td>\n      <td>-0.6000</td>\n      <td>73.0833</td>\n      <td>82.02</td>\n      <td>76</td>\n      <td>100</td>\n      <td>15.10</td>\n      <td>MV</td>\n      <td>overcast clouds</td>\n    </tr>\n    <tr>\n      <th>3</th>\n      <td>3</td>\n      <td>Talnakh</td>\n      <td>69.4865</td>\n      <td>88.3972</td>\n      <td>-29.07</td>\n      <td>76</td>\n      <td>0</td>\n      <td>3.47</td>\n      <td>RU</td>\n      <td>clear sky</td>\n    </tr>\n    <tr>\n      <th>4</th>\n      <td>4</td>\n      <td>Tasiilaq</td>\n      <td>65.6145</td>\n      <td>-37.6368</td>\n      <td>32.00</td>\n      <td>100</td>\n      <td>75</td>\n      <td>42.57</td>\n      <td>GL</td>\n      <td>snow</td>\n    </tr>\n  </tbody>\n</table>\n</div>"
     },
     "metadata": {},
     "execution_count": 2
    }
   ],
   "source": [
    "# 1. Import the WeatherPy_database.csv file. \n",
    "city_data_df = pd.read_csv(\"Weather_Database/WeatherPy_Database.csv\")\n",
    "city_data_df.head()"
   ]
  },
  {
   "cell_type": "code",
   "execution_count": 3,
   "metadata": {},
   "outputs": [],
   "source": [
    "# 2. Prompt the user to enter minimum and maximum temperature criteria # Min 10; Max 50\n",
    "min_temp = float(input(\"What is the minimum temperature you would like for your trip? \"))\n",
    "max_temp = float(input(\"What is the maximum temperature you would like for your trip? \"))"
   ]
  },
  {
   "cell_type": "code",
   "execution_count": 4,
   "metadata": {},
   "outputs": [
    {
     "output_type": "execute_result",
     "data": {
      "text/plain": [
       "    City_ID                City      Lat       Lng  Max Temp  Humidity  \\\n",
       "4         4            Tasiilaq  65.6145  -37.6368     32.00       100   \n",
       "12       12        Port-Cartier  50.0334  -66.8654     30.99        93   \n",
       "19       19              Kodiak  57.7900 -152.4072     28.40        59   \n",
       "21       21              Albany  42.6001  -73.9662     36.00        59   \n",
       "23       23              Kijang  35.2442  129.2139     35.60        87   \n",
       "26       26  Havre-Saint-Pierre  50.2334  -63.5986     32.00        93   \n",
       "27       27            Carballo  43.2130   -8.6910     46.99        78   \n",
       "28       28             Qaanaaq  77.4840  -69.3632     11.07        88   \n",
       "30       30           Upernavik  72.7868  -56.1549     20.59        81   \n",
       "31       31             Kobylka  52.3395   21.1959     19.99        72   \n",
       "\n",
       "    Cloudiness  Wind Speed Country Current Description  \n",
       "4           75       42.57      GL                snow  \n",
       "12         100        3.44      CA                snow  \n",
       "19           1        4.61      US           clear sky  \n",
       "21          75       12.66      US       broken clouds  \n",
       "23           1        4.61      KR           clear sky  \n",
       "26          90       12.66      CA                snow  \n",
       "27          14        1.99      ES          few clouds  \n",
       "28         100        7.56      GL     overcast clouds  \n",
       "30         100        6.51      GL     overcast clouds  \n",
       "31          32        3.00      PL    scattered clouds  "
      ],
      "text/html": "<div>\n<style scoped>\n    .dataframe tbody tr th:only-of-type {\n        vertical-align: middle;\n    }\n\n    .dataframe tbody tr th {\n        vertical-align: top;\n    }\n\n    .dataframe thead th {\n        text-align: right;\n    }\n</style>\n<table border=\"1\" class=\"dataframe\">\n  <thead>\n    <tr style=\"text-align: right;\">\n      <th></th>\n      <th>City_ID</th>\n      <th>City</th>\n      <th>Lat</th>\n      <th>Lng</th>\n      <th>Max Temp</th>\n      <th>Humidity</th>\n      <th>Cloudiness</th>\n      <th>Wind Speed</th>\n      <th>Country</th>\n      <th>Current Description</th>\n    </tr>\n  </thead>\n  <tbody>\n    <tr>\n      <th>4</th>\n      <td>4</td>\n      <td>Tasiilaq</td>\n      <td>65.6145</td>\n      <td>-37.6368</td>\n      <td>32.00</td>\n      <td>100</td>\n      <td>75</td>\n      <td>42.57</td>\n      <td>GL</td>\n      <td>snow</td>\n    </tr>\n    <tr>\n      <th>12</th>\n      <td>12</td>\n      <td>Port-Cartier</td>\n      <td>50.0334</td>\n      <td>-66.8654</td>\n      <td>30.99</td>\n      <td>93</td>\n      <td>100</td>\n      <td>3.44</td>\n      <td>CA</td>\n      <td>snow</td>\n    </tr>\n    <tr>\n      <th>19</th>\n      <td>19</td>\n      <td>Kodiak</td>\n      <td>57.7900</td>\n      <td>-152.4072</td>\n      <td>28.40</td>\n      <td>59</td>\n      <td>1</td>\n      <td>4.61</td>\n      <td>US</td>\n      <td>clear sky</td>\n    </tr>\n    <tr>\n      <th>21</th>\n      <td>21</td>\n      <td>Albany</td>\n      <td>42.6001</td>\n      <td>-73.9662</td>\n      <td>36.00</td>\n      <td>59</td>\n      <td>75</td>\n      <td>12.66</td>\n      <td>US</td>\n      <td>broken clouds</td>\n    </tr>\n    <tr>\n      <th>23</th>\n      <td>23</td>\n      <td>Kijang</td>\n      <td>35.2442</td>\n      <td>129.2139</td>\n      <td>35.60</td>\n      <td>87</td>\n      <td>1</td>\n      <td>4.61</td>\n      <td>KR</td>\n      <td>clear sky</td>\n    </tr>\n    <tr>\n      <th>26</th>\n      <td>26</td>\n      <td>Havre-Saint-Pierre</td>\n      <td>50.2334</td>\n      <td>-63.5986</td>\n      <td>32.00</td>\n      <td>93</td>\n      <td>90</td>\n      <td>12.66</td>\n      <td>CA</td>\n      <td>snow</td>\n    </tr>\n    <tr>\n      <th>27</th>\n      <td>27</td>\n      <td>Carballo</td>\n      <td>43.2130</td>\n      <td>-8.6910</td>\n      <td>46.99</td>\n      <td>78</td>\n      <td>14</td>\n      <td>1.99</td>\n      <td>ES</td>\n      <td>few clouds</td>\n    </tr>\n    <tr>\n      <th>28</th>\n      <td>28</td>\n      <td>Qaanaaq</td>\n      <td>77.4840</td>\n      <td>-69.3632</td>\n      <td>11.07</td>\n      <td>88</td>\n      <td>100</td>\n      <td>7.56</td>\n      <td>GL</td>\n      <td>overcast clouds</td>\n    </tr>\n    <tr>\n      <th>30</th>\n      <td>30</td>\n      <td>Upernavik</td>\n      <td>72.7868</td>\n      <td>-56.1549</td>\n      <td>20.59</td>\n      <td>81</td>\n      <td>100</td>\n      <td>6.51</td>\n      <td>GL</td>\n      <td>overcast clouds</td>\n    </tr>\n    <tr>\n      <th>31</th>\n      <td>31</td>\n      <td>Kobylka</td>\n      <td>52.3395</td>\n      <td>21.1959</td>\n      <td>19.99</td>\n      <td>72</td>\n      <td>32</td>\n      <td>3.00</td>\n      <td>PL</td>\n      <td>scattered clouds</td>\n    </tr>\n  </tbody>\n</table>\n</div>"
     },
     "metadata": {},
     "execution_count": 4
    }
   ],
   "source": [
    "# 3. Filter the city_data_df DataFrame using the input statements to create a new DataFrame using the loc method.\n",
    "preferred_cities_df = city_data_df.loc[(city_data_df[\"Max Temp\"] <= max_temp) & (city_data_df[\"Max Temp\"] >= min_temp)]\n",
    "preferred_cities_df.head(10)"
   ]
  },
  {
   "cell_type": "code",
   "execution_count": 5,
   "metadata": {},
   "outputs": [
    {
     "output_type": "stream",
     "name": "stdout",
     "text": [
      "Verification for the max 50.0\nVerification for the min 10.0\n"
     ]
    }
   ],
   "source": [
    "print(\"Verification for the max \" + str(preferred_cities_df[\"Max Temp\"].max()))\n",
    "print(\"Verification for the min \" + str(preferred_cities_df[\"Max Temp\"].min()))"
   ]
  },
  {
   "cell_type": "code",
   "execution_count": 15,
   "metadata": {},
   "outputs": [
    {
     "output_type": "stream",
     "name": "stdout",
     "text": [
      "City_ID                0\nCity                   0\nLat                    0\nLng                    0\nMax Temp               0\nHumidity               0\nCloudiness             0\nWind Speed             0\nCountry                0\nCurrent Description    0\ndtype: int64\n---\nCity_ID                165\nCity                   165\nLat                    165\nLng                    165\nMax Temp               165\nHumidity               165\nCloudiness             165\nWind Speed             165\nCountry                165\nCurrent Description    165\ndtype: int64\n---\nCity_ID                165\nCity                   165\nLat                    165\nLng                    165\nMax Temp               165\nHumidity               165\nCloudiness             165\nWind Speed             165\nCountry                165\nCurrent Description    165\ndtype: int64\n---\n    City_ID          City      Lat      Lng  Max Temp  Humidity  Cloudiness  \\\n4         4      Tasiilaq  65.6145 -37.6368     32.00       100          75   \n12       12  Port-Cartier  50.0334 -66.8654     30.99        93         100   \n\n    Wind Speed Country Current Description  \n4        42.57      GL                snow  \n12        3.44      CA                snow  \n"
     ]
    }
   ],
   "source": [
    "# 4a. Determine if there are any empty rows.\n",
    "print(preferred_cities_df.isna().sum())\n",
    "print(\"---\")\n",
    "print(preferred_cities_df.isna().count())\n",
    "print(\"---\")\n",
    "print(preferred_cities_df.count())\n",
    "print(\"---\")\n",
    "print(preferred_cities_df.head(2))"
   ]
  },
  {
   "cell_type": "code",
   "execution_count": 7,
   "metadata": {},
   "outputs": [
    {
     "output_type": "execute_result",
     "data": {
      "text/plain": [
       "                  City Country  Max Temp      Lat       Lng Hotel Name\n",
       "4             Tasiilaq      GL     32.00  65.6145  -37.6368           \n",
       "12        Port-Cartier      CA     30.99  50.0334  -66.8654           \n",
       "19              Kodiak      US     28.40  57.7900 -152.4072           \n",
       "21              Albany      US     36.00  42.6001  -73.9662           \n",
       "23              Kijang      KR     35.60  35.2442  129.2139           \n",
       "26  Havre-Saint-Pierre      CA     32.00  50.2334  -63.5986           \n",
       "27            Carballo      ES     46.99  43.2130   -8.6910           \n",
       "28             Qaanaaq      GL     11.07  77.4840  -69.3632           \n",
       "30           Upernavik      GL     20.59  72.7868  -56.1549           \n",
       "31             Kobylka      PL     19.99  52.3395   21.1959           "
      ],
      "text/html": "<div>\n<style scoped>\n    .dataframe tbody tr th:only-of-type {\n        vertical-align: middle;\n    }\n\n    .dataframe tbody tr th {\n        vertical-align: top;\n    }\n\n    .dataframe thead th {\n        text-align: right;\n    }\n</style>\n<table border=\"1\" class=\"dataframe\">\n  <thead>\n    <tr style=\"text-align: right;\">\n      <th></th>\n      <th>City</th>\n      <th>Country</th>\n      <th>Max Temp</th>\n      <th>Lat</th>\n      <th>Lng</th>\n      <th>Hotel Name</th>\n    </tr>\n  </thead>\n  <tbody>\n    <tr>\n      <th>4</th>\n      <td>Tasiilaq</td>\n      <td>GL</td>\n      <td>32.00</td>\n      <td>65.6145</td>\n      <td>-37.6368</td>\n      <td></td>\n    </tr>\n    <tr>\n      <th>12</th>\n      <td>Port-Cartier</td>\n      <td>CA</td>\n      <td>30.99</td>\n      <td>50.0334</td>\n      <td>-66.8654</td>\n      <td></td>\n    </tr>\n    <tr>\n      <th>19</th>\n      <td>Kodiak</td>\n      <td>US</td>\n      <td>28.40</td>\n      <td>57.7900</td>\n      <td>-152.4072</td>\n      <td></td>\n    </tr>\n    <tr>\n      <th>21</th>\n      <td>Albany</td>\n      <td>US</td>\n      <td>36.00</td>\n      <td>42.6001</td>\n      <td>-73.9662</td>\n      <td></td>\n    </tr>\n    <tr>\n      <th>23</th>\n      <td>Kijang</td>\n      <td>KR</td>\n      <td>35.60</td>\n      <td>35.2442</td>\n      <td>129.2139</td>\n      <td></td>\n    </tr>\n    <tr>\n      <th>26</th>\n      <td>Havre-Saint-Pierre</td>\n      <td>CA</td>\n      <td>32.00</td>\n      <td>50.2334</td>\n      <td>-63.5986</td>\n      <td></td>\n    </tr>\n    <tr>\n      <th>27</th>\n      <td>Carballo</td>\n      <td>ES</td>\n      <td>46.99</td>\n      <td>43.2130</td>\n      <td>-8.6910</td>\n      <td></td>\n    </tr>\n    <tr>\n      <th>28</th>\n      <td>Qaanaaq</td>\n      <td>GL</td>\n      <td>11.07</td>\n      <td>77.4840</td>\n      <td>-69.3632</td>\n      <td></td>\n    </tr>\n    <tr>\n      <th>30</th>\n      <td>Upernavik</td>\n      <td>GL</td>\n      <td>20.59</td>\n      <td>72.7868</td>\n      <td>-56.1549</td>\n      <td></td>\n    </tr>\n    <tr>\n      <th>31</th>\n      <td>Kobylka</td>\n      <td>PL</td>\n      <td>19.99</td>\n      <td>52.3395</td>\n      <td>21.1959</td>\n      <td></td>\n    </tr>\n  </tbody>\n</table>\n</div>"
     },
     "metadata": {},
     "execution_count": 7
    }
   ],
   "source": [
    "# 4b. Drop any empty rows and create a new DataFrame that doesn’t have empty rows.\n",
    "clean_df = preferred_cities_df[[\"City\", \"Country\", \"Max Temp\", \"Lat\", \"Lng\"]].dropna().copy()\n",
    "clean_df[\"Hotel Name\"] = \"\"\n",
    "clean_df.head(10)\n",
    "#clean_df.count()"
   ]
  },
  {
   "cell_type": "code",
   "execution_count": 8,
   "metadata": {},
   "outputs": [
    {
     "output_type": "execute_result",
     "data": {
      "text/plain": [
       "                  City Country  Max Temp Current Description      Lat  \\\n",
       "4             Tasiilaq      GL     32.00                snow  65.6145   \n",
       "12        Port-Cartier      CA     30.99                snow  50.0334   \n",
       "19              Kodiak      US     28.40           clear sky  57.7900   \n",
       "21              Albany      US     36.00       broken clouds  42.6001   \n",
       "23              Kijang      KR     35.60           clear sky  35.2442   \n",
       "26  Havre-Saint-Pierre      CA     32.00                snow  50.2334   \n",
       "27            Carballo      ES     46.99          few clouds  43.2130   \n",
       "28             Qaanaaq      GL     11.07     overcast clouds  77.4840   \n",
       "30           Upernavik      GL     20.59     overcast clouds  72.7868   \n",
       "31             Kobylka      PL     19.99    scattered clouds  52.3395   \n",
       "\n",
       "         Lng Hotel Name  \n",
       "4   -37.6368             \n",
       "12  -66.8654             \n",
       "19 -152.4072             \n",
       "21  -73.9662             \n",
       "23  129.2139             \n",
       "26  -63.5986             \n",
       "27   -8.6910             \n",
       "28  -69.3632             \n",
       "30  -56.1549             \n",
       "31   21.1959             "
      ],
      "text/html": "<div>\n<style scoped>\n    .dataframe tbody tr th:only-of-type {\n        vertical-align: middle;\n    }\n\n    .dataframe tbody tr th {\n        vertical-align: top;\n    }\n\n    .dataframe thead th {\n        text-align: right;\n    }\n</style>\n<table border=\"1\" class=\"dataframe\">\n  <thead>\n    <tr style=\"text-align: right;\">\n      <th></th>\n      <th>City</th>\n      <th>Country</th>\n      <th>Max Temp</th>\n      <th>Current Description</th>\n      <th>Lat</th>\n      <th>Lng</th>\n      <th>Hotel Name</th>\n    </tr>\n  </thead>\n  <tbody>\n    <tr>\n      <th>4</th>\n      <td>Tasiilaq</td>\n      <td>GL</td>\n      <td>32.00</td>\n      <td>snow</td>\n      <td>65.6145</td>\n      <td>-37.6368</td>\n      <td></td>\n    </tr>\n    <tr>\n      <th>12</th>\n      <td>Port-Cartier</td>\n      <td>CA</td>\n      <td>30.99</td>\n      <td>snow</td>\n      <td>50.0334</td>\n      <td>-66.8654</td>\n      <td></td>\n    </tr>\n    <tr>\n      <th>19</th>\n      <td>Kodiak</td>\n      <td>US</td>\n      <td>28.40</td>\n      <td>clear sky</td>\n      <td>57.7900</td>\n      <td>-152.4072</td>\n      <td></td>\n    </tr>\n    <tr>\n      <th>21</th>\n      <td>Albany</td>\n      <td>US</td>\n      <td>36.00</td>\n      <td>broken clouds</td>\n      <td>42.6001</td>\n      <td>-73.9662</td>\n      <td></td>\n    </tr>\n    <tr>\n      <th>23</th>\n      <td>Kijang</td>\n      <td>KR</td>\n      <td>35.60</td>\n      <td>clear sky</td>\n      <td>35.2442</td>\n      <td>129.2139</td>\n      <td></td>\n    </tr>\n    <tr>\n      <th>26</th>\n      <td>Havre-Saint-Pierre</td>\n      <td>CA</td>\n      <td>32.00</td>\n      <td>snow</td>\n      <td>50.2334</td>\n      <td>-63.5986</td>\n      <td></td>\n    </tr>\n    <tr>\n      <th>27</th>\n      <td>Carballo</td>\n      <td>ES</td>\n      <td>46.99</td>\n      <td>few clouds</td>\n      <td>43.2130</td>\n      <td>-8.6910</td>\n      <td></td>\n    </tr>\n    <tr>\n      <th>28</th>\n      <td>Qaanaaq</td>\n      <td>GL</td>\n      <td>11.07</td>\n      <td>overcast clouds</td>\n      <td>77.4840</td>\n      <td>-69.3632</td>\n      <td></td>\n    </tr>\n    <tr>\n      <th>30</th>\n      <td>Upernavik</td>\n      <td>GL</td>\n      <td>20.59</td>\n      <td>overcast clouds</td>\n      <td>72.7868</td>\n      <td>-56.1549</td>\n      <td></td>\n    </tr>\n    <tr>\n      <th>31</th>\n      <td>Kobylka</td>\n      <td>PL</td>\n      <td>19.99</td>\n      <td>scattered clouds</td>\n      <td>52.3395</td>\n      <td>21.1959</td>\n      <td></td>\n    </tr>\n  </tbody>\n</table>\n</div>"
     },
     "metadata": {},
     "execution_count": 8
    }
   ],
   "source": [
    "# 5a. Create DataFrame called hotel_df to store hotel names along with city, country, max temp, and coordinates.\n",
    "hotel_df = preferred_cities_df[[\"City\", \"Country\", \"Max Temp\", \"Current Description\", \"Lat\", \"Lng\"]].copy()\n",
    "\n",
    "# 5b. Create a new column \"Hotel Name\"\n",
    "hotel_df[\"Hotel Name\"] = \"\"\n",
    "hotel_df.head(10)"
   ]
  },
  {
   "cell_type": "code",
   "execution_count": 9,
   "metadata": {},
   "outputs": [
    {
     "output_type": "stream",
     "name": "stdout",
     "text": [
      "Hotel not found... skipping.\n",
      "Hotel not found... skipping.\n",
      "Hotel not found... skipping.\n",
      "Hotel not found... skipping.\n",
      "Hotel not found... skipping.\n",
      "Hotel not found... skipping.\n",
      "Hotel not found... skipping.\n",
      "Hotel not found... skipping.\n",
      "Hotel not found... skipping.\n",
      "Hotel not found... skipping.\n",
      "Hotel not found... skipping.\n",
      "Hotel not found... skipping.\n",
      "Hotel not found... skipping.\n",
      "Hotel not found... skipping.\n",
      "Hotel not found... skipping.\n",
      "Hotel not found... skipping.\n",
      "Hotel not found... skipping.\n",
      "Hotel not found... skipping.\n",
      "Hotel not found... skipping.\n"
     ]
    }
   ],
   "source": [
    "# 6a. Set parameters to search for hotels with 5000 meters.\n",
    "params = {\n",
    "    \"radius\": 5000,\n",
    "    \"type\": \"lodging\",\n",
    "    \"key\": g_key\n",
    "}\n",
    "\n",
    "# 6b. Iterate through the hotel DataFrame.\n",
    "for index, row in hotel_df.iterrows():\n",
    "\n",
    "    # 6c. Get latitude and longitude from DataFrame\n",
    "    lat = row[\"Lat\"]\n",
    "    lng = row[\"Lng\"]\n",
    "\n",
    "    # Add the latitude and longitude to location key for the params dictionary.\n",
    "    params[\"location\"] = f\"{lat},{lng}\"\n",
    "    \n",
    "    # 6d. Set up the base URL for the Google Directions API to get JSON data.\n",
    "    base_url = \"https://maps.googleapis.com/maps/api/place/nearbysearch/json\"\n",
    "\n",
    "    # 6e. Make request and retrieve the JSON data from the search. \n",
    "    hotels = requests.get(base_url, params=params).json()\n",
    "    \n",
    "    # 6f. Get the first hotel from the results and store the name, if a hotel isn't found skip the city.\n",
    "    try:\n",
    "        hotel_df.loc[index, \"Hotel Name\"] = hotels[\"results\"][0][\"name\"]\n",
    "    except (IndexError):\n",
    "        hotel_df.loc[index, \"Hotel Name\"] = np.nan\n",
    "        print(\"Hotel not found... skipping.\")       "
   ]
  },
  {
   "cell_type": "code",
   "execution_count": 11,
   "metadata": {},
   "outputs": [
    {
     "output_type": "execute_result",
     "data": {
      "text/plain": [
       "                  City Country  Max Temp Current Description      Lat  \\\n",
       "4             Tasiilaq      GL     32.00                snow  65.6145   \n",
       "12        Port-Cartier      CA     30.99                snow  50.0334   \n",
       "19              Kodiak      US     28.40           clear sky  57.7900   \n",
       "23              Kijang      KR     35.60           clear sky  35.2442   \n",
       "26  Havre-Saint-Pierre      CA     32.00                snow  50.2334   \n",
       "27            Carballo      ES     46.99          few clouds  43.2130   \n",
       "28             Qaanaaq      GL     11.07     overcast clouds  77.4840   \n",
       "30           Upernavik      GL     20.59     overcast clouds  72.7868   \n",
       "31             Kobylka      PL     19.99    scattered clouds  52.3395   \n",
       "38                Roma      US     28.40     overcast clouds  43.2128   \n",
       "39             Gucheng      CN     46.36       broken clouds  35.9115   \n",
       "41             Fortuna      US     46.99     overcast clouds  40.5982   \n",
       "42           Havoysund      NO     24.80          light snow  70.9963   \n",
       "44                Asau      RO     30.00     overcast clouds  46.4333   \n",
       "46         Pangnirtung      CA     14.00       broken clouds  66.1451   \n",
       "49           Bonavista      CA     36.00     overcast clouds  48.6499   \n",
       "58               Sitka      US     35.60          light snow  57.0531   \n",
       "59              Bethel      US     39.99    scattered clouds  41.3712   \n",
       "60             Mataura      NZ     48.85           clear sky -46.1927   \n",
       "69                Lasa      IT     42.01    scattered clouds  46.6166   \n",
       "\n",
       "         Lng                                     Hotel Name  \n",
       "4   -37.6368                                  The Red House  \n",
       "12  -66.8654                                    Le Q'Artier  \n",
       "19 -152.4072  Best Western Kodiak Inn And Convention Center  \n",
       "23  129.2139                            Samyang Beach Villa  \n",
       "26  -63.5986                              Auberge Niapiskau  \n",
       "27   -8.6910                                  Pazo do Souto  \n",
       "28  -69.3632                                  Qaanaaq Hotel  \n",
       "30  -56.1549                  Gina's Guesthouse - Upernavik  \n",
       "31   21.1959                                 Hotel Trylogia  \n",
       "38  -75.4557                        Wingate By Wyndham Rome  \n",
       "39  111.3192                                           古城宾馆  \n",
       "41 -124.1573                     Super 8 by Wyndham Fortuna  \n",
       "42   24.6622              Arctic View Glamping & Restaurant  \n",
       "44   26.4000                             Casa Mika Ciobanus  \n",
       "46  -65.7125                                  Kilabuk Lodge  \n",
       "49  -53.1147                       Abbott's Bed & Breakfast  \n",
       "58 -135.3300                                 Westmark Sitka  \n",
       "59  -73.4140                  Courtyard by Marriott Danbury  \n",
       "60  168.8643                                  Ellie's Villa  \n",
       "69   10.7002                          Pension Feldgärtenhof  "
      ],
      "text/html": "<div>\n<style scoped>\n    .dataframe tbody tr th:only-of-type {\n        vertical-align: middle;\n    }\n\n    .dataframe tbody tr th {\n        vertical-align: top;\n    }\n\n    .dataframe thead th {\n        text-align: right;\n    }\n</style>\n<table border=\"1\" class=\"dataframe\">\n  <thead>\n    <tr style=\"text-align: right;\">\n      <th></th>\n      <th>City</th>\n      <th>Country</th>\n      <th>Max Temp</th>\n      <th>Current Description</th>\n      <th>Lat</th>\n      <th>Lng</th>\n      <th>Hotel Name</th>\n    </tr>\n  </thead>\n  <tbody>\n    <tr>\n      <th>4</th>\n      <td>Tasiilaq</td>\n      <td>GL</td>\n      <td>32.00</td>\n      <td>snow</td>\n      <td>65.6145</td>\n      <td>-37.6368</td>\n      <td>The Red House</td>\n    </tr>\n    <tr>\n      <th>12</th>\n      <td>Port-Cartier</td>\n      <td>CA</td>\n      <td>30.99</td>\n      <td>snow</td>\n      <td>50.0334</td>\n      <td>-66.8654</td>\n      <td>Le Q'Artier</td>\n    </tr>\n    <tr>\n      <th>19</th>\n      <td>Kodiak</td>\n      <td>US</td>\n      <td>28.40</td>\n      <td>clear sky</td>\n      <td>57.7900</td>\n      <td>-152.4072</td>\n      <td>Best Western Kodiak Inn And Convention Center</td>\n    </tr>\n    <tr>\n      <th>23</th>\n      <td>Kijang</td>\n      <td>KR</td>\n      <td>35.60</td>\n      <td>clear sky</td>\n      <td>35.2442</td>\n      <td>129.2139</td>\n      <td>Samyang Beach Villa</td>\n    </tr>\n    <tr>\n      <th>26</th>\n      <td>Havre-Saint-Pierre</td>\n      <td>CA</td>\n      <td>32.00</td>\n      <td>snow</td>\n      <td>50.2334</td>\n      <td>-63.5986</td>\n      <td>Auberge Niapiskau</td>\n    </tr>\n    <tr>\n      <th>27</th>\n      <td>Carballo</td>\n      <td>ES</td>\n      <td>46.99</td>\n      <td>few clouds</td>\n      <td>43.2130</td>\n      <td>-8.6910</td>\n      <td>Pazo do Souto</td>\n    </tr>\n    <tr>\n      <th>28</th>\n      <td>Qaanaaq</td>\n      <td>GL</td>\n      <td>11.07</td>\n      <td>overcast clouds</td>\n      <td>77.4840</td>\n      <td>-69.3632</td>\n      <td>Qaanaaq Hotel</td>\n    </tr>\n    <tr>\n      <th>30</th>\n      <td>Upernavik</td>\n      <td>GL</td>\n      <td>20.59</td>\n      <td>overcast clouds</td>\n      <td>72.7868</td>\n      <td>-56.1549</td>\n      <td>Gina's Guesthouse - Upernavik</td>\n    </tr>\n    <tr>\n      <th>31</th>\n      <td>Kobylka</td>\n      <td>PL</td>\n      <td>19.99</td>\n      <td>scattered clouds</td>\n      <td>52.3395</td>\n      <td>21.1959</td>\n      <td>Hotel Trylogia</td>\n    </tr>\n    <tr>\n      <th>38</th>\n      <td>Roma</td>\n      <td>US</td>\n      <td>28.40</td>\n      <td>overcast clouds</td>\n      <td>43.2128</td>\n      <td>-75.4557</td>\n      <td>Wingate By Wyndham Rome</td>\n    </tr>\n    <tr>\n      <th>39</th>\n      <td>Gucheng</td>\n      <td>CN</td>\n      <td>46.36</td>\n      <td>broken clouds</td>\n      <td>35.9115</td>\n      <td>111.3192</td>\n      <td>古城宾馆</td>\n    </tr>\n    <tr>\n      <th>41</th>\n      <td>Fortuna</td>\n      <td>US</td>\n      <td>46.99</td>\n      <td>overcast clouds</td>\n      <td>40.5982</td>\n      <td>-124.1573</td>\n      <td>Super 8 by Wyndham Fortuna</td>\n    </tr>\n    <tr>\n      <th>42</th>\n      <td>Havoysund</td>\n      <td>NO</td>\n      <td>24.80</td>\n      <td>light snow</td>\n      <td>70.9963</td>\n      <td>24.6622</td>\n      <td>Arctic View Glamping &amp; Restaurant</td>\n    </tr>\n    <tr>\n      <th>44</th>\n      <td>Asau</td>\n      <td>RO</td>\n      <td>30.00</td>\n      <td>overcast clouds</td>\n      <td>46.4333</td>\n      <td>26.4000</td>\n      <td>Casa Mika Ciobanus</td>\n    </tr>\n    <tr>\n      <th>46</th>\n      <td>Pangnirtung</td>\n      <td>CA</td>\n      <td>14.00</td>\n      <td>broken clouds</td>\n      <td>66.1451</td>\n      <td>-65.7125</td>\n      <td>Kilabuk Lodge</td>\n    </tr>\n    <tr>\n      <th>49</th>\n      <td>Bonavista</td>\n      <td>CA</td>\n      <td>36.00</td>\n      <td>overcast clouds</td>\n      <td>48.6499</td>\n      <td>-53.1147</td>\n      <td>Abbott's Bed &amp; Breakfast</td>\n    </tr>\n    <tr>\n      <th>58</th>\n      <td>Sitka</td>\n      <td>US</td>\n      <td>35.60</td>\n      <td>light snow</td>\n      <td>57.0531</td>\n      <td>-135.3300</td>\n      <td>Westmark Sitka</td>\n    </tr>\n    <tr>\n      <th>59</th>\n      <td>Bethel</td>\n      <td>US</td>\n      <td>39.99</td>\n      <td>scattered clouds</td>\n      <td>41.3712</td>\n      <td>-73.4140</td>\n      <td>Courtyard by Marriott Danbury</td>\n    </tr>\n    <tr>\n      <th>60</th>\n      <td>Mataura</td>\n      <td>NZ</td>\n      <td>48.85</td>\n      <td>clear sky</td>\n      <td>-46.1927</td>\n      <td>168.8643</td>\n      <td>Ellie's Villa</td>\n    </tr>\n    <tr>\n      <th>69</th>\n      <td>Lasa</td>\n      <td>IT</td>\n      <td>42.01</td>\n      <td>scattered clouds</td>\n      <td>46.6166</td>\n      <td>10.7002</td>\n      <td>Pension Feldgärtenhof</td>\n    </tr>\n  </tbody>\n</table>\n</div>"
     },
     "metadata": {},
     "execution_count": 11
    }
   ],
   "source": [
    "# 7. Drop the rows where there is no Hotel Name.\n",
    "clean_hotel_df = pd.DataFrame(hotel_df)\n",
    "#clean_hotel_df.isna().sum()\n",
    "clean_hotel_df = clean_hotel_df.dropna()\n",
    "clean_hotel_df.head(20)"
   ]
  },
  {
   "cell_type": "code",
   "execution_count": 12,
   "metadata": {},
   "outputs": [],
   "source": [
    "# 8a. Create the output File (CSV)\n",
    "output_data_file = \"Vacation_Search/WeatherPy_vacation.csv\"\n",
    "# 8b. Export the City_Data into a csv\n",
    "clean_hotel_df.to_csv(output_data_file, index_label=\"City_ID\")"
   ]
  },
  {
   "cell_type": "code",
   "execution_count": 13,
   "metadata": {},
   "outputs": [],
   "source": [
    "# 9. Using the template add city name, the country code, the weather description and maximum temperature for the city.\n",
    "info_box_template = \"\"\"\n",
    "<dl>\n",
    "<dt><b>City</b></dt><dd>{City}</dd>\n",
    "<dt><b>Country</b></dt><dd>{Country}</dd>\n",
    "<dt><b>Description</b></dt><dd>{Current Description}</dd>\n",
    "<dt><b>Max Temp</b></dt><dd>{Max Temp} °F</dd>\n",
    "</dl>\n",
    "\"\"\"\n",
    "\n",
    "# 10a. Get the data from each row and add it to the formatting template and store the data in a list.\n",
    "hotel_info = [info_box_template.format(**row) for index, row in clean_hotel_df.iterrows()]\n",
    "\n",
    "# 10b. Get the latitude and longitude from each row and store in a new DataFrame.\n",
    "locations = clean_hotel_df[[\"Lat\", \"Lng\"]]"
   ]
  },
  {
   "cell_type": "code",
   "execution_count": 14,
   "metadata": {},
   "outputs": [
    {
     "output_type": "display_data",
     "data": {
      "text/plain": "Figure(layout=FigureLayout(height='420px'))",
      "application/vnd.jupyter.widget-view+json": {
       "version_major": 2,
       "version_minor": 0,
       "model_id": "35b1ca9266b3484bbcc6e78d06eaa46f"
      }
     },
     "metadata": {}
    }
   ],
   "source": [
    "# 11a. Add a marker layer for each city to the map. \n",
    "locations = clean_hotel_df[[\"Lat\", \"Lng\"]]\n",
    "max_temp = clean_hotel_df[\"Max Temp\"]\n",
    "fig = gmaps.figure(center=(30.0, 31.0), zoom_level=1.5)\n",
    "\n",
    "marker_layer = gmaps.marker_layer(locations, info_box_content=hotel_info)\n",
    "fig.add_layer(marker_layer)\n",
    "\n",
    "# 11b. Display the figure\n",
    "fig"
   ]
  },
  {
   "cell_type": "code",
   "execution_count": null,
   "metadata": {},
   "outputs": [],
   "source": []
  }
 ],
 "metadata": {
  "kernelspec": {
   "display_name": "PythonData",
   "language": "python",
   "name": "pythondata"
  },
  "language_info": {
   "codemirror_mode": {
    "name": "ipython",
    "version": 3
   },
   "file_extension": ".py",
   "mimetype": "text/x-python",
   "name": "python",
   "nbconvert_exporter": "python",
   "pygments_lexer": "ipython3",
   "version": "3.8.5-final"
  },
  "latex_envs": {
   "LaTeX_envs_menu_present": true,
   "autoclose": false,
   "autocomplete": true,
   "bibliofile": "biblio.bib",
   "cite_by": "apalike",
   "current_citInitial": 1,
   "eqLabelWithNumbers": true,
   "eqNumInitial": 1,
   "hotkeys": {
    "equation": "Ctrl-E",
    "itemize": "Ctrl-I"
   },
   "labels_anchors": false,
   "latex_user_defs": false,
   "report_style_numbering": false,
   "user_envs_cfg": false
  }
 },
 "nbformat": 4,
 "nbformat_minor": 2
}