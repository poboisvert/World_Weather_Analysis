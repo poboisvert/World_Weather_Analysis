{
 "cells": [
  {
   "cell_type": "markdown",
   "metadata": {},
   "source": [
    "## Deliverable 2. Create a Customer Travel Destinations Map."
   ]
  },
  {
   "cell_type": "code",
   "execution_count": 1,
   "metadata": {},
   "outputs": [],
   "source": [
    "# Dependencies and Setup\n",
    "import pandas as pd\n",
    "import requests\n",
    "import gmaps\n",
    "import numpy as np\n",
    "\n",
    "# Import API key\n",
    "import os\n",
    "os.chdir('..')\n",
    "\n",
    "from config import g_key\n",
    "#print(g_key)\n",
    "# Configure gmaps API key\n",
    "gmaps.configure(api_key=g_key)"
   ]
  },
  {
   "cell_type": "code",
   "execution_count": 2,
   "metadata": {},
   "outputs": [
    {
     "output_type": "execute_result",
     "data": {
      "text/plain": [
       "   City_ID        City      Lat       Lng  Max Temp  Humidity  Cloudiness  \\\n",
       "0        0  Kaitangata -46.2817  169.8464     48.99        79           0   \n",
       "1        1   Mahebourg -20.4081   57.7000     80.60        74          40   \n",
       "2        2       Seoul  37.5683  126.9778     32.00        93         100   \n",
       "3        3     Aklavik  68.2191 -135.0107    -25.60        68          20   \n",
       "4        4     Ushuaia -54.8000  -68.3000     48.20        87          90   \n",
       "\n",
       "   Wind Speed Country Current Description  \n",
       "0        4.00      NZ           clear sky  \n",
       "1       11.50      MU    scattered clouds  \n",
       "2        3.44      KR                mist  \n",
       "3       12.66      CA                snow  \n",
       "4       13.80      AR             drizzle  "
      ],
      "text/html": "<div>\n<style scoped>\n    .dataframe tbody tr th:only-of-type {\n        vertical-align: middle;\n    }\n\n    .dataframe tbody tr th {\n        vertical-align: top;\n    }\n\n    .dataframe thead th {\n        text-align: right;\n    }\n</style>\n<table border=\"1\" class=\"dataframe\">\n  <thead>\n    <tr style=\"text-align: right;\">\n      <th></th>\n      <th>City_ID</th>\n      <th>City</th>\n      <th>Lat</th>\n      <th>Lng</th>\n      <th>Max Temp</th>\n      <th>Humidity</th>\n      <th>Cloudiness</th>\n      <th>Wind Speed</th>\n      <th>Country</th>\n      <th>Current Description</th>\n    </tr>\n  </thead>\n  <tbody>\n    <tr>\n      <th>0</th>\n      <td>0</td>\n      <td>Kaitangata</td>\n      <td>-46.2817</td>\n      <td>169.8464</td>\n      <td>48.99</td>\n      <td>79</td>\n      <td>0</td>\n      <td>4.00</td>\n      <td>NZ</td>\n      <td>clear sky</td>\n    </tr>\n    <tr>\n      <th>1</th>\n      <td>1</td>\n      <td>Mahebourg</td>\n      <td>-20.4081</td>\n      <td>57.7000</td>\n      <td>80.60</td>\n      <td>74</td>\n      <td>40</td>\n      <td>11.50</td>\n      <td>MU</td>\n      <td>scattered clouds</td>\n    </tr>\n    <tr>\n      <th>2</th>\n      <td>2</td>\n      <td>Seoul</td>\n      <td>37.5683</td>\n      <td>126.9778</td>\n      <td>32.00</td>\n      <td>93</td>\n      <td>100</td>\n      <td>3.44</td>\n      <td>KR</td>\n      <td>mist</td>\n    </tr>\n    <tr>\n      <th>3</th>\n      <td>3</td>\n      <td>Aklavik</td>\n      <td>68.2191</td>\n      <td>-135.0107</td>\n      <td>-25.60</td>\n      <td>68</td>\n      <td>20</td>\n      <td>12.66</td>\n      <td>CA</td>\n      <td>snow</td>\n    </tr>\n    <tr>\n      <th>4</th>\n      <td>4</td>\n      <td>Ushuaia</td>\n      <td>-54.8000</td>\n      <td>-68.3000</td>\n      <td>48.20</td>\n      <td>87</td>\n      <td>90</td>\n      <td>13.80</td>\n      <td>AR</td>\n      <td>drizzle</td>\n    </tr>\n  </tbody>\n</table>\n</div>"
     },
     "metadata": {},
     "execution_count": 2
    }
   ],
   "source": [
    "# 1. Import the WeatherPy_database.csv file. \n",
    "city_data_df = pd.read_csv(\"Weather_Database/WeatherPy_Database.csv\")\n",
    "city_data_df.head()"
   ]
  },
  {
   "cell_type": "code",
   "execution_count": 3,
   "metadata": {},
   "outputs": [],
   "source": [
    "# 2. Prompt the user to enter minimum and maximum temperature criteria # Min 10; Max 50\n",
    "min_temp = float(input(\"What is the minimum temperature you would like for your trip? \"))\n",
    "max_temp = float(input(\"What is the maximum temperature you would like for your trip? \"))"
   ]
  },
  {
   "cell_type": "code",
   "execution_count": 4,
   "metadata": {},
   "outputs": [
    {
     "output_type": "execute_result",
     "data": {
      "text/plain": [
       "    City_ID          City      Lat       Lng  Max Temp  Humidity  Cloudiness  \\\n",
       "0         0    Kaitangata -46.2817  169.8464     48.99        79           0   \n",
       "2         2         Seoul  37.5683  126.9778     32.00        93         100   \n",
       "4         4       Ushuaia -54.8000  -68.3000     48.20        87          90   \n",
       "10       10        Palmer  42.1584  -72.3287     30.99        54          75   \n",
       "11       11      Hamilton  39.1834  -84.5333     26.01        63          90   \n",
       "20       20  San Patricio  28.0170  -97.5169     42.80        93          90   \n",
       "26       26       Sorland  67.6670   12.6934     37.40        70          75   \n",
       "34       34        Bethel  41.3712  -73.4140     30.99        54          90   \n",
       "35       35        Albany  42.6001  -73.9662     28.99        42          83   \n",
       "36       36       Fortuna  40.5982 -124.1573     50.00        93          75   \n",
       "\n",
       "    Wind Speed Country Current Description  \n",
       "0         4.00      NZ           clear sky  \n",
       "2         3.44      KR                mist  \n",
       "4        13.80      AR             drizzle  \n",
       "10        5.75      US       broken clouds  \n",
       "11       13.80      US     overcast clouds  \n",
       "20       14.97      US     overcast clouds  \n",
       "26       32.21      NO       broken clouds  \n",
       "34        8.05      US     overcast clouds  \n",
       "35        1.01      US       broken clouds  \n",
       "36       24.16      US          light rain  "
      ],
      "text/html": "<div>\n<style scoped>\n    .dataframe tbody tr th:only-of-type {\n        vertical-align: middle;\n    }\n\n    .dataframe tbody tr th {\n        vertical-align: top;\n    }\n\n    .dataframe thead th {\n        text-align: right;\n    }\n</style>\n<table border=\"1\" class=\"dataframe\">\n  <thead>\n    <tr style=\"text-align: right;\">\n      <th></th>\n      <th>City_ID</th>\n      <th>City</th>\n      <th>Lat</th>\n      <th>Lng</th>\n      <th>Max Temp</th>\n      <th>Humidity</th>\n      <th>Cloudiness</th>\n      <th>Wind Speed</th>\n      <th>Country</th>\n      <th>Current Description</th>\n    </tr>\n  </thead>\n  <tbody>\n    <tr>\n      <th>0</th>\n      <td>0</td>\n      <td>Kaitangata</td>\n      <td>-46.2817</td>\n      <td>169.8464</td>\n      <td>48.99</td>\n      <td>79</td>\n      <td>0</td>\n      <td>4.00</td>\n      <td>NZ</td>\n      <td>clear sky</td>\n    </tr>\n    <tr>\n      <th>2</th>\n      <td>2</td>\n      <td>Seoul</td>\n      <td>37.5683</td>\n      <td>126.9778</td>\n      <td>32.00</td>\n      <td>93</td>\n      <td>100</td>\n      <td>3.44</td>\n      <td>KR</td>\n      <td>mist</td>\n    </tr>\n    <tr>\n      <th>4</th>\n      <td>4</td>\n      <td>Ushuaia</td>\n      <td>-54.8000</td>\n      <td>-68.3000</td>\n      <td>48.20</td>\n      <td>87</td>\n      <td>90</td>\n      <td>13.80</td>\n      <td>AR</td>\n      <td>drizzle</td>\n    </tr>\n    <tr>\n      <th>10</th>\n      <td>10</td>\n      <td>Palmer</td>\n      <td>42.1584</td>\n      <td>-72.3287</td>\n      <td>30.99</td>\n      <td>54</td>\n      <td>75</td>\n      <td>5.75</td>\n      <td>US</td>\n      <td>broken clouds</td>\n    </tr>\n    <tr>\n      <th>11</th>\n      <td>11</td>\n      <td>Hamilton</td>\n      <td>39.1834</td>\n      <td>-84.5333</td>\n      <td>26.01</td>\n      <td>63</td>\n      <td>90</td>\n      <td>13.80</td>\n      <td>US</td>\n      <td>overcast clouds</td>\n    </tr>\n    <tr>\n      <th>20</th>\n      <td>20</td>\n      <td>San Patricio</td>\n      <td>28.0170</td>\n      <td>-97.5169</td>\n      <td>42.80</td>\n      <td>93</td>\n      <td>90</td>\n      <td>14.97</td>\n      <td>US</td>\n      <td>overcast clouds</td>\n    </tr>\n    <tr>\n      <th>26</th>\n      <td>26</td>\n      <td>Sorland</td>\n      <td>67.6670</td>\n      <td>12.6934</td>\n      <td>37.40</td>\n      <td>70</td>\n      <td>75</td>\n      <td>32.21</td>\n      <td>NO</td>\n      <td>broken clouds</td>\n    </tr>\n    <tr>\n      <th>34</th>\n      <td>34</td>\n      <td>Bethel</td>\n      <td>41.3712</td>\n      <td>-73.4140</td>\n      <td>30.99</td>\n      <td>54</td>\n      <td>90</td>\n      <td>8.05</td>\n      <td>US</td>\n      <td>overcast clouds</td>\n    </tr>\n    <tr>\n      <th>35</th>\n      <td>35</td>\n      <td>Albany</td>\n      <td>42.6001</td>\n      <td>-73.9662</td>\n      <td>28.99</td>\n      <td>42</td>\n      <td>83</td>\n      <td>1.01</td>\n      <td>US</td>\n      <td>broken clouds</td>\n    </tr>\n    <tr>\n      <th>36</th>\n      <td>36</td>\n      <td>Fortuna</td>\n      <td>40.5982</td>\n      <td>-124.1573</td>\n      <td>50.00</td>\n      <td>93</td>\n      <td>75</td>\n      <td>24.16</td>\n      <td>US</td>\n      <td>light rain</td>\n    </tr>\n  </tbody>\n</table>\n</div>"
     },
     "metadata": {},
     "execution_count": 4
    }
   ],
   "source": [
    "# 3. Filter the city_data_df DataFrame using the input statements to create a new DataFrame using the loc method.\n",
    "preferred_cities_df = city_data_df.loc[(city_data_df[\"Max Temp\"] <= max_temp) & (city_data_df[\"Max Temp\"] >= min_temp)]\n",
    "preferred_cities_df.head(10)"
   ]
  },
  {
   "cell_type": "code",
   "execution_count": 5,
   "metadata": {},
   "outputs": [
    {
     "output_type": "stream",
     "name": "stdout",
     "text": [
      "Verification for the max 50.0\nVerification for the min 10.0\n"
     ]
    }
   ],
   "source": [
    "print(\"Verification for the max \" + str(preferred_cities_df[\"Max Temp\"].max()))\n",
    "print(\"Verification for the min \" + str(preferred_cities_df[\"Max Temp\"].min()))"
   ]
  },
  {
   "cell_type": "code",
   "execution_count": 6,
   "metadata": {},
   "outputs": [
    {
     "output_type": "stream",
     "name": "stdout",
     "text": [
      "City_ID                0\nCity                   0\nLat                    0\nLng                    0\nMax Temp               0\nHumidity               0\nCloudiness             0\nWind Speed             0\nCountry                0\nCurrent Description    0\ndtype: int64\n---\nCity_ID                155\nCity                   155\nLat                    155\nLng                    155\nMax Temp               155\nHumidity               155\nCloudiness             155\nWind Speed             155\nCountry                155\nCurrent Description    155\ndtype: int64\n---\nCity_ID                155\nCity                   155\nLat                    155\nLng                    155\nMax Temp               155\nHumidity               155\nCloudiness             155\nWind Speed             155\nCountry                155\nCurrent Description    155\ndtype: int64\n---\n   City_ID        City      Lat       Lng  Max Temp  Humidity  Cloudiness  \\\n0        0  Kaitangata -46.2817  169.8464     48.99        79           0   \n2        2       Seoul  37.5683  126.9778     32.00        93         100   \n\n   Wind Speed Country Current Description  \n0        4.00      NZ           clear sky  \n2        3.44      KR                mist  \n"
     ]
    }
   ],
   "source": [
    "# 4a. Determine if there are any empty rows.\n",
    "print(preferred_cities_df.isna().sum())\n",
    "print(\"---\")\n",
    "print(preferred_cities_df.isna().count())\n",
    "print(\"---\")\n",
    "print(preferred_cities_df.count())\n",
    "print(\"---\")\n",
    "print(preferred_cities_df.head(2))"
   ]
  },
  {
   "cell_type": "code",
   "execution_count": 7,
   "metadata": {},
   "outputs": [
    {
     "output_type": "execute_result",
     "data": {
      "text/plain": [
       "            City Country  Max Temp      Lat       Lng Hotel Name\n",
       "0     Kaitangata      NZ     48.99 -46.2817  169.8464           \n",
       "2          Seoul      KR     32.00  37.5683  126.9778           \n",
       "4        Ushuaia      AR     48.20 -54.8000  -68.3000           \n",
       "10        Palmer      US     30.99  42.1584  -72.3287           \n",
       "11      Hamilton      US     26.01  39.1834  -84.5333           \n",
       "20  San Patricio      US     42.80  28.0170  -97.5169           \n",
       "26       Sorland      NO     37.40  67.6670   12.6934           \n",
       "34        Bethel      US     30.99  41.3712  -73.4140           \n",
       "35        Albany      US     28.99  42.6001  -73.9662           \n",
       "36       Fortuna      US     50.00  40.5982 -124.1573           "
      ],
      "text/html": "<div>\n<style scoped>\n    .dataframe tbody tr th:only-of-type {\n        vertical-align: middle;\n    }\n\n    .dataframe tbody tr th {\n        vertical-align: top;\n    }\n\n    .dataframe thead th {\n        text-align: right;\n    }\n</style>\n<table border=\"1\" class=\"dataframe\">\n  <thead>\n    <tr style=\"text-align: right;\">\n      <th></th>\n      <th>City</th>\n      <th>Country</th>\n      <th>Max Temp</th>\n      <th>Lat</th>\n      <th>Lng</th>\n      <th>Hotel Name</th>\n    </tr>\n  </thead>\n  <tbody>\n    <tr>\n      <th>0</th>\n      <td>Kaitangata</td>\n      <td>NZ</td>\n      <td>48.99</td>\n      <td>-46.2817</td>\n      <td>169.8464</td>\n      <td></td>\n    </tr>\n    <tr>\n      <th>2</th>\n      <td>Seoul</td>\n      <td>KR</td>\n      <td>32.00</td>\n      <td>37.5683</td>\n      <td>126.9778</td>\n      <td></td>\n    </tr>\n    <tr>\n      <th>4</th>\n      <td>Ushuaia</td>\n      <td>AR</td>\n      <td>48.20</td>\n      <td>-54.8000</td>\n      <td>-68.3000</td>\n      <td></td>\n    </tr>\n    <tr>\n      <th>10</th>\n      <td>Palmer</td>\n      <td>US</td>\n      <td>30.99</td>\n      <td>42.1584</td>\n      <td>-72.3287</td>\n      <td></td>\n    </tr>\n    <tr>\n      <th>11</th>\n      <td>Hamilton</td>\n      <td>US</td>\n      <td>26.01</td>\n      <td>39.1834</td>\n      <td>-84.5333</td>\n      <td></td>\n    </tr>\n    <tr>\n      <th>20</th>\n      <td>San Patricio</td>\n      <td>US</td>\n      <td>42.80</td>\n      <td>28.0170</td>\n      <td>-97.5169</td>\n      <td></td>\n    </tr>\n    <tr>\n      <th>26</th>\n      <td>Sorland</td>\n      <td>NO</td>\n      <td>37.40</td>\n      <td>67.6670</td>\n      <td>12.6934</td>\n      <td></td>\n    </tr>\n    <tr>\n      <th>34</th>\n      <td>Bethel</td>\n      <td>US</td>\n      <td>30.99</td>\n      <td>41.3712</td>\n      <td>-73.4140</td>\n      <td></td>\n    </tr>\n    <tr>\n      <th>35</th>\n      <td>Albany</td>\n      <td>US</td>\n      <td>28.99</td>\n      <td>42.6001</td>\n      <td>-73.9662</td>\n      <td></td>\n    </tr>\n    <tr>\n      <th>36</th>\n      <td>Fortuna</td>\n      <td>US</td>\n      <td>50.00</td>\n      <td>40.5982</td>\n      <td>-124.1573</td>\n      <td></td>\n    </tr>\n  </tbody>\n</table>\n</div>"
     },
     "metadata": {},
     "execution_count": 7
    }
   ],
   "source": [
    "# 4b. Drop any empty rows and create a new DataFrame that doesn’t have empty rows.\n",
    "clean_df = preferred_cities_df[[\"City\", \"Country\", \"Max Temp\", \"Lat\", \"Lng\"]].dropna().copy()\n",
    "clean_df[\"Hotel Name\"] = \"\"\n",
    "clean_df.head(10)\n",
    "#clean_df.count()"
   ]
  },
  {
   "cell_type": "code",
   "execution_count": 8,
   "metadata": {},
   "outputs": [
    {
     "output_type": "execute_result",
     "data": {
      "text/plain": [
       "            City Country  Max Temp Current Description      Lat       Lng  \\\n",
       "0     Kaitangata      NZ     48.99           clear sky -46.2817  169.8464   \n",
       "2          Seoul      KR     32.00                mist  37.5683  126.9778   \n",
       "4        Ushuaia      AR     48.20             drizzle -54.8000  -68.3000   \n",
       "10        Palmer      US     30.99       broken clouds  42.1584  -72.3287   \n",
       "11      Hamilton      US     26.01     overcast clouds  39.1834  -84.5333   \n",
       "20  San Patricio      US     42.80     overcast clouds  28.0170  -97.5169   \n",
       "26       Sorland      NO     37.40       broken clouds  67.6670   12.6934   \n",
       "34        Bethel      US     30.99     overcast clouds  41.3712  -73.4140   \n",
       "35        Albany      US     28.99       broken clouds  42.6001  -73.9662   \n",
       "36       Fortuna      US     50.00          light rain  40.5982 -124.1573   \n",
       "\n",
       "   Hotel Name  \n",
       "0              \n",
       "2              \n",
       "4              \n",
       "10             \n",
       "11             \n",
       "20             \n",
       "26             \n",
       "34             \n",
       "35             \n",
       "36             "
      ],
      "text/html": "<div>\n<style scoped>\n    .dataframe tbody tr th:only-of-type {\n        vertical-align: middle;\n    }\n\n    .dataframe tbody tr th {\n        vertical-align: top;\n    }\n\n    .dataframe thead th {\n        text-align: right;\n    }\n</style>\n<table border=\"1\" class=\"dataframe\">\n  <thead>\n    <tr style=\"text-align: right;\">\n      <th></th>\n      <th>City</th>\n      <th>Country</th>\n      <th>Max Temp</th>\n      <th>Current Description</th>\n      <th>Lat</th>\n      <th>Lng</th>\n      <th>Hotel Name</th>\n    </tr>\n  </thead>\n  <tbody>\n    <tr>\n      <th>0</th>\n      <td>Kaitangata</td>\n      <td>NZ</td>\n      <td>48.99</td>\n      <td>clear sky</td>\n      <td>-46.2817</td>\n      <td>169.8464</td>\n      <td></td>\n    </tr>\n    <tr>\n      <th>2</th>\n      <td>Seoul</td>\n      <td>KR</td>\n      <td>32.00</td>\n      <td>mist</td>\n      <td>37.5683</td>\n      <td>126.9778</td>\n      <td></td>\n    </tr>\n    <tr>\n      <th>4</th>\n      <td>Ushuaia</td>\n      <td>AR</td>\n      <td>48.20</td>\n      <td>drizzle</td>\n      <td>-54.8000</td>\n      <td>-68.3000</td>\n      <td></td>\n    </tr>\n    <tr>\n      <th>10</th>\n      <td>Palmer</td>\n      <td>US</td>\n      <td>30.99</td>\n      <td>broken clouds</td>\n      <td>42.1584</td>\n      <td>-72.3287</td>\n      <td></td>\n    </tr>\n    <tr>\n      <th>11</th>\n      <td>Hamilton</td>\n      <td>US</td>\n      <td>26.01</td>\n      <td>overcast clouds</td>\n      <td>39.1834</td>\n      <td>-84.5333</td>\n      <td></td>\n    </tr>\n    <tr>\n      <th>20</th>\n      <td>San Patricio</td>\n      <td>US</td>\n      <td>42.80</td>\n      <td>overcast clouds</td>\n      <td>28.0170</td>\n      <td>-97.5169</td>\n      <td></td>\n    </tr>\n    <tr>\n      <th>26</th>\n      <td>Sorland</td>\n      <td>NO</td>\n      <td>37.40</td>\n      <td>broken clouds</td>\n      <td>67.6670</td>\n      <td>12.6934</td>\n      <td></td>\n    </tr>\n    <tr>\n      <th>34</th>\n      <td>Bethel</td>\n      <td>US</td>\n      <td>30.99</td>\n      <td>overcast clouds</td>\n      <td>41.3712</td>\n      <td>-73.4140</td>\n      <td></td>\n    </tr>\n    <tr>\n      <th>35</th>\n      <td>Albany</td>\n      <td>US</td>\n      <td>28.99</td>\n      <td>broken clouds</td>\n      <td>42.6001</td>\n      <td>-73.9662</td>\n      <td></td>\n    </tr>\n    <tr>\n      <th>36</th>\n      <td>Fortuna</td>\n      <td>US</td>\n      <td>50.00</td>\n      <td>light rain</td>\n      <td>40.5982</td>\n      <td>-124.1573</td>\n      <td></td>\n    </tr>\n  </tbody>\n</table>\n</div>"
     },
     "metadata": {},
     "execution_count": 8
    }
   ],
   "source": [
    "# 5a. Create DataFrame called hotel_df to store hotel names along with city, country, max temp, and coordinates.\n",
    "hotel_df = preferred_cities_df[[\"City\", \"Country\", \"Max Temp\", \"Current Description\", \"Lat\", \"Lng\"]].copy()\n",
    "\n",
    "# 5b. Create a new column \"Hotel Name\"\n",
    "hotel_df[\"Hotel Name\"] = \"\"\n",
    "hotel_df.head(10)"
   ]
  },
  {
   "cell_type": "code",
   "execution_count": 9,
   "metadata": {},
   "outputs": [
    {
     "output_type": "stream",
     "name": "stdout",
     "text": [
      "Hotel not found... skipping.\n",
      "Hotel not found... skipping.\n",
      "Hotel not found... skipping.\n",
      "Hotel not found... skipping.\n",
      "Hotel not found... skipping.\n",
      "Hotel not found... skipping.\n",
      "Hotel not found... skipping.\n",
      "Hotel not found... skipping.\n",
      "Hotel not found... skipping.\n",
      "Hotel not found... skipping.\n",
      "Hotel not found... skipping.\n",
      "Hotel not found... skipping.\n",
      "Hotel not found... skipping.\n",
      "Hotel not found... skipping.\n"
     ]
    }
   ],
   "source": [
    "# 6a. Set parameters to search for hotels with 5000 meters.\n",
    "params = {\n",
    "    \"radius\": 5000,\n",
    "    \"type\": \"lodging\",\n",
    "    \"key\": g_key\n",
    "}\n",
    "\n",
    "# 6b. Iterate through the hotel DataFrame.\n",
    "for index, row in hotel_df.iterrows():\n",
    "\n",
    "    # 6c. Get latitude and longitude from DataFrame\n",
    "    lat = row[\"Lat\"]\n",
    "    lng = row[\"Lng\"]\n",
    "\n",
    "    # Add the latitude and longitude to location key for the params dictionary.\n",
    "    params[\"location\"] = f\"{lat},{lng}\"\n",
    "    \n",
    "    # 6d. Set up the base URL for the Google Directions API to get JSON data.\n",
    "    base_url = \"https://maps.googleapis.com/maps/api/place/nearbysearch/json\"\n",
    "\n",
    "    # 6e. Make request and retrieve the JSON data from the search. \n",
    "    hotels = requests.get(base_url, params=params).json()\n",
    "    \n",
    "    # 6f. Get the first hotel from the results and store the name, if a hotel isn't found skip the city.\n",
    "    try:\n",
    "        hotel_df.loc[index, \"Hotel Name\"] = hotels[\"results\"][0][\"name\"]\n",
    "    except (IndexError):\n",
    "        hotel_df.loc[index, \"Hotel Name\"] = np.nan\n",
    "        print(\"Hotel not found... skipping.\")       "
   ]
  },
  {
   "cell_type": "code",
   "execution_count": 10,
   "metadata": {},
   "outputs": [
    {
     "output_type": "execute_result",
     "data": {
      "text/plain": [
       "                  City Country  Max Temp Current Description      Lat  \\\n",
       "0           Kaitangata      NZ     48.99           clear sky -46.2817   \n",
       "2                Seoul      KR     32.00                mist  37.5683   \n",
       "4              Ushuaia      AR     48.20             drizzle -54.8000   \n",
       "10              Palmer      US     30.99       broken clouds  42.1584   \n",
       "11            Hamilton      US     26.01     overcast clouds  39.1834   \n",
       "20        San Patricio      US     42.80     overcast clouds  28.0170   \n",
       "26             Sorland      NO     37.40       broken clouds  67.6670   \n",
       "34              Bethel      US     30.99     overcast clouds  41.3712   \n",
       "36             Fortuna      US     50.00          light rain  40.5982   \n",
       "38             Juegang      CN     50.00       broken clouds  32.3174   \n",
       "40            Katsuura      JP     45.00           clear sky  35.1333   \n",
       "47              Narsaq      GL     37.40       broken clouds  60.9167   \n",
       "48                Hofn      IS     39.78          light rain  64.2539   \n",
       "57     Port Hawkesbury      CA     19.99           clear sky  45.6169   \n",
       "62                Nuuk      GL     23.00       broken clouds  64.1835   \n",
       "63             Mataura      NZ     42.94           clear sky -46.1927   \n",
       "67              Pishin      PK     49.93       broken clouds  30.5803   \n",
       "68              Tawang      IN     34.07           clear sky  27.5833   \n",
       "70  Havre-Saint-Pierre      CA     14.00                snow  50.2334   \n",
       "73              Gallup      US     48.20           clear sky  35.5281   \n",
       "\n",
       "         Lng                                         Hotel Name  \n",
       "0   169.8464                              Kaitangata Motor Camp  \n",
       "2   126.9778                                  Lotte Hotel Seoul  \n",
       "4   -68.3000                                     Albatros Hotel  \n",
       "10  -72.3287                                    Wedgewood Motel  \n",
       "11  -84.5333                          Six Acres Bed & Breakfast  \n",
       "20  -97.5169                                 Motel 6 Sinton, TX  \n",
       "26   12.6934                                Sjybrygga fiskecamp  \n",
       "34  -73.4140                      Courtyard by Marriott Danbury  \n",
       "36 -124.1573                         Super 8 by Wyndham Fortuna  \n",
       "38  121.1855                                     Rudong Y Hotel  \n",
       "40  140.3000                            Katsuura Hotel Mikazuki  \n",
       "47  -46.0500                                       Hotel Narsaq  \n",
       "48  -15.2082                                         Hótel Höfn  \n",
       "57  -61.3485                   MacKenzie House Tourist Home B&B  \n",
       "62  -51.7216                                        Vandrehuset  \n",
       "63  168.8643                                      Ellie's Villa  \n",
       "67   66.9961                                  City Hotel Pishin  \n",
       "68   91.8667                                   Hotel Mount View  \n",
       "70  -63.5986                                  Auberge Niapiskau  \n",
       "73 -108.7426  Days Inn by Wyndham Flagstaff Near Downtown/NA...  "
      ],
      "text/html": "<div>\n<style scoped>\n    .dataframe tbody tr th:only-of-type {\n        vertical-align: middle;\n    }\n\n    .dataframe tbody tr th {\n        vertical-align: top;\n    }\n\n    .dataframe thead th {\n        text-align: right;\n    }\n</style>\n<table border=\"1\" class=\"dataframe\">\n  <thead>\n    <tr style=\"text-align: right;\">\n      <th></th>\n      <th>City</th>\n      <th>Country</th>\n      <th>Max Temp</th>\n      <th>Current Description</th>\n      <th>Lat</th>\n      <th>Lng</th>\n      <th>Hotel Name</th>\n    </tr>\n  </thead>\n  <tbody>\n    <tr>\n      <th>0</th>\n      <td>Kaitangata</td>\n      <td>NZ</td>\n      <td>48.99</td>\n      <td>clear sky</td>\n      <td>-46.2817</td>\n      <td>169.8464</td>\n      <td>Kaitangata Motor Camp</td>\n    </tr>\n    <tr>\n      <th>2</th>\n      <td>Seoul</td>\n      <td>KR</td>\n      <td>32.00</td>\n      <td>mist</td>\n      <td>37.5683</td>\n      <td>126.9778</td>\n      <td>Lotte Hotel Seoul</td>\n    </tr>\n    <tr>\n      <th>4</th>\n      <td>Ushuaia</td>\n      <td>AR</td>\n      <td>48.20</td>\n      <td>drizzle</td>\n      <td>-54.8000</td>\n      <td>-68.3000</td>\n      <td>Albatros Hotel</td>\n    </tr>\n    <tr>\n      <th>10</th>\n      <td>Palmer</td>\n      <td>US</td>\n      <td>30.99</td>\n      <td>broken clouds</td>\n      <td>42.1584</td>\n      <td>-72.3287</td>\n      <td>Wedgewood Motel</td>\n    </tr>\n    <tr>\n      <th>11</th>\n      <td>Hamilton</td>\n      <td>US</td>\n      <td>26.01</td>\n      <td>overcast clouds</td>\n      <td>39.1834</td>\n      <td>-84.5333</td>\n      <td>Six Acres Bed &amp; Breakfast</td>\n    </tr>\n    <tr>\n      <th>20</th>\n      <td>San Patricio</td>\n      <td>US</td>\n      <td>42.80</td>\n      <td>overcast clouds</td>\n      <td>28.0170</td>\n      <td>-97.5169</td>\n      <td>Motel 6 Sinton, TX</td>\n    </tr>\n    <tr>\n      <th>26</th>\n      <td>Sorland</td>\n      <td>NO</td>\n      <td>37.40</td>\n      <td>broken clouds</td>\n      <td>67.6670</td>\n      <td>12.6934</td>\n      <td>Sjybrygga fiskecamp</td>\n    </tr>\n    <tr>\n      <th>34</th>\n      <td>Bethel</td>\n      <td>US</td>\n      <td>30.99</td>\n      <td>overcast clouds</td>\n      <td>41.3712</td>\n      <td>-73.4140</td>\n      <td>Courtyard by Marriott Danbury</td>\n    </tr>\n    <tr>\n      <th>36</th>\n      <td>Fortuna</td>\n      <td>US</td>\n      <td>50.00</td>\n      <td>light rain</td>\n      <td>40.5982</td>\n      <td>-124.1573</td>\n      <td>Super 8 by Wyndham Fortuna</td>\n    </tr>\n    <tr>\n      <th>38</th>\n      <td>Juegang</td>\n      <td>CN</td>\n      <td>50.00</td>\n      <td>broken clouds</td>\n      <td>32.3174</td>\n      <td>121.1855</td>\n      <td>Rudong Y Hotel</td>\n    </tr>\n    <tr>\n      <th>40</th>\n      <td>Katsuura</td>\n      <td>JP</td>\n      <td>45.00</td>\n      <td>clear sky</td>\n      <td>35.1333</td>\n      <td>140.3000</td>\n      <td>Katsuura Hotel Mikazuki</td>\n    </tr>\n    <tr>\n      <th>47</th>\n      <td>Narsaq</td>\n      <td>GL</td>\n      <td>37.40</td>\n      <td>broken clouds</td>\n      <td>60.9167</td>\n      <td>-46.0500</td>\n      <td>Hotel Narsaq</td>\n    </tr>\n    <tr>\n      <th>48</th>\n      <td>Hofn</td>\n      <td>IS</td>\n      <td>39.78</td>\n      <td>light rain</td>\n      <td>64.2539</td>\n      <td>-15.2082</td>\n      <td>Hótel Höfn</td>\n    </tr>\n    <tr>\n      <th>57</th>\n      <td>Port Hawkesbury</td>\n      <td>CA</td>\n      <td>19.99</td>\n      <td>clear sky</td>\n      <td>45.6169</td>\n      <td>-61.3485</td>\n      <td>MacKenzie House Tourist Home B&amp;B</td>\n    </tr>\n    <tr>\n      <th>62</th>\n      <td>Nuuk</td>\n      <td>GL</td>\n      <td>23.00</td>\n      <td>broken clouds</td>\n      <td>64.1835</td>\n      <td>-51.7216</td>\n      <td>Vandrehuset</td>\n    </tr>\n    <tr>\n      <th>63</th>\n      <td>Mataura</td>\n      <td>NZ</td>\n      <td>42.94</td>\n      <td>clear sky</td>\n      <td>-46.1927</td>\n      <td>168.8643</td>\n      <td>Ellie's Villa</td>\n    </tr>\n    <tr>\n      <th>67</th>\n      <td>Pishin</td>\n      <td>PK</td>\n      <td>49.93</td>\n      <td>broken clouds</td>\n      <td>30.5803</td>\n      <td>66.9961</td>\n      <td>City Hotel Pishin</td>\n    </tr>\n    <tr>\n      <th>68</th>\n      <td>Tawang</td>\n      <td>IN</td>\n      <td>34.07</td>\n      <td>clear sky</td>\n      <td>27.5833</td>\n      <td>91.8667</td>\n      <td>Hotel Mount View</td>\n    </tr>\n    <tr>\n      <th>70</th>\n      <td>Havre-Saint-Pierre</td>\n      <td>CA</td>\n      <td>14.00</td>\n      <td>snow</td>\n      <td>50.2334</td>\n      <td>-63.5986</td>\n      <td>Auberge Niapiskau</td>\n    </tr>\n    <tr>\n      <th>73</th>\n      <td>Gallup</td>\n      <td>US</td>\n      <td>48.20</td>\n      <td>clear sky</td>\n      <td>35.5281</td>\n      <td>-108.7426</td>\n      <td>Days Inn by Wyndham Flagstaff Near Downtown/NA...</td>\n    </tr>\n  </tbody>\n</table>\n</div>"
     },
     "metadata": {},
     "execution_count": 10
    }
   ],
   "source": [
    "# 7. Drop the rows where there is no Hotel Name.\n",
    "clean_hotel_df = pd.DataFrame(hotel_df)\n",
    "#clean_hotel_df.isna().sum()\n",
    "clean_hotel_df = clean_hotel_df.dropna()\n",
    "clean_hotel_df.head(20)"
   ]
  },
  {
   "cell_type": "code",
   "execution_count": 11,
   "metadata": {},
   "outputs": [],
   "source": [
    "# 8a. Create the output File (CSV)\n",
    "output_data_file = \"Vacation_Search/WeatherPy_vacation.csv\"\n",
    "# 8b. Export the City_Data into a csv\n",
    "clean_hotel_df.to_csv(output_data_file, index_label=\"City_ID\")"
   ]
  },
  {
   "cell_type": "code",
   "execution_count": 12,
   "metadata": {},
   "outputs": [],
   "source": [
    "# 9. Using the template add city name, the country code, the weather description and maximum temperature for the city.\n",
    "info_box_template = \"\"\"\n",
    "<dl>\n",
    "<dt><b>City</b></dt><dd>{City}</dd>\n",
    "<dt><b>Country</b></dt><dd>{Country}</dd>\n",
    "<dt><b>Description</b></dt><dd>{Current Description}</dd>\n",
    "<dt><b>Max Temp</b></dt><dd>{Max Temp} °F</dd>\n",
    "</dl>\n",
    "\"\"\"\n",
    "\n",
    "# 10a. Get the data from each row and add it to the formatting template and store the data in a list.\n",
    "hotel_info = [info_box_template.format(**row) for index, row in clean_hotel_df.iterrows()]\n",
    "\n",
    "# 10b. Get the latitude and longitude from each row and store in a new DataFrame.\n",
    "locations = clean_hotel_df[[\"Lat\", \"Lng\"]]"
   ]
  },
  {
   "cell_type": "code",
   "execution_count": 13,
   "metadata": {},
   "outputs": [
    {
     "output_type": "display_data",
     "data": {
      "text/plain": "Figure(layout=FigureLayout(height='420px'))",
      "application/vnd.jupyter.widget-view+json": {
       "version_major": 2,
       "version_minor": 0,
       "model_id": "6f78482744f44c3fba8d04ea02b681f5"
      }
     },
     "metadata": {}
    }
   ],
   "source": [
    "# 11a. Add a marker layer for each city to the map. \n",
    "locations = clean_hotel_df[[\"Lat\", \"Lng\"]]\n",
    "max_temp = clean_hotel_df[\"Max Temp\"]\n",
    "fig = gmaps.figure(center=(30.0, 31.0), zoom_level=1.5)\n",
    "\n",
    "marker_layer = gmaps.marker_layer(locations, info_box_content=hotel_info)\n",
    "fig.add_layer(marker_layer)\n",
    "\n",
    "# 11b. Display the figure\n",
    "fig"
   ]
  },
  {
   "cell_type": "code",
   "execution_count": null,
   "metadata": {},
   "outputs": [],
   "source": []
  }
 ],
 "metadata": {
  "kernelspec": {
   "display_name": "PythonData",
   "language": "python",
   "name": "pythondata"
  },
  "language_info": {
   "codemirror_mode": {
    "name": "ipython",
    "version": 3
   },
   "file_extension": ".py",
   "mimetype": "text/x-python",
   "name": "python",
   "nbconvert_exporter": "python",
   "pygments_lexer": "ipython3",
   "version": "3.8.5-final"
  },
  "latex_envs": {
   "LaTeX_envs_menu_present": true,
   "autoclose": false,
   "autocomplete": true,
   "bibliofile": "biblio.bib",
   "cite_by": "apalike",
   "current_citInitial": 1,
   "eqLabelWithNumbers": true,
   "eqNumInitial": 1,
   "hotkeys": {
    "equation": "Ctrl-E",
    "itemize": "Ctrl-I"
   },
   "labels_anchors": false,
   "latex_user_defs": false,
   "report_style_numbering": false,
   "user_envs_cfg": false
  }
 },
 "nbformat": 4,
 "nbformat_minor": 2
}